{
 "cells": [
  {
   "cell_type": "code",
   "execution_count": 11,
   "metadata": {},
   "outputs": [
    {
     "name": "stdout",
     "output_type": "stream",
     "text": [
      "             id  FloodProbability\n",
      "0       1117957          0.573615\n",
      "1       1117958          0.455243\n",
      "2       1117959          0.454742\n",
      "3       1117960          0.466204\n",
      "4       1117961          0.466068\n",
      "...         ...               ...\n",
      "745300  1863257          0.477227\n",
      "745301  1863258          0.449369\n",
      "745302  1863259          0.624330\n",
      "745303  1863260          0.550925\n",
      "745304  1863261          0.511472\n",
      "\n",
      "[745305 rows x 2 columns]\n"
     ]
    }
   ],
   "source": [
    "import pandas as pd\n",
    "from sklearn import linear_model\n",
    "\n",
    "dataframe = pd.read_csv(\"./train.csv\")\n",
    "\n",
    "linear_Reg_Obj = linear_model.LinearRegression()\n",
    "\n",
    "X = ['MonsoonIntensity', 'TopographyDrainage', 'RiverManagement', 'Deforestation', 'Urbanization', 'ClimateChange', 'DamsQuality', 'Siltation', 'AgriculturalPractices', \n",
    "     'Encroachments', 'IneffectiveDisasterPreparedness', 'DrainageSystems', 'CoastalVulnerability', 'Landslides', 'Watersheds', 'DeterioratingInfrastructure', 'PopulationScore',\n",
    "       'WetlandLoss', 'InadequatePlanning', 'PoliticalFactors']\n",
    "        \n",
    "\n",
    "linear_Reg_Obj.fit(dataframe[X], dataframe['FloodProbability'])\n",
    "\n",
    "test_dataframe = pd.read_csv(\"./test.csv\")\n",
    "submission = test_dataframe.drop(X, axis=\"columns\")\n",
    "test_dataframe = test_dataframe[X]\n",
    "\n",
    "test_predictions = linear_Reg_Obj.predict(test_dataframe)\n",
    "\n",
    "submission['FloodProbability'] = test_predictions\n",
    "submission.to_csv(\"submission.csv\", index=False)\n",
    "\n",
    "print(submission)"
   ]
  }
 ],
 "metadata": {
  "kernelspec": {
   "display_name": "Python 3",
   "language": "python",
   "name": "python3"
  },
  "language_info": {
   "codemirror_mode": {
    "name": "ipython",
    "version": 3
   },
   "file_extension": ".py",
   "mimetype": "text/x-python",
   "name": "python",
   "nbconvert_exporter": "python",
   "pygments_lexer": "ipython3",
   "version": "3.10.13"
  }
 },
 "nbformat": 4,
 "nbformat_minor": 2
}
